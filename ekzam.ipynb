{
 "cells": [
  {
   "cell_type": "markdown",
   "metadata": {},
   "source": [
    "# Задание 1 (4 балла)"
   ]
  },
  {
   "cell_type": "code",
   "execution_count": 162,
   "metadata": {},
   "outputs": [
    {
     "name": "stdout",
     "output_type": "stream",
     "text": [
      "дела как Привет дождь идет улице На\n",
      "программирование люблю Я \n"
     ]
    }
   ],
   "source": [
    "def reverse(block_size=int,sentences=str):\n",
    "    # Превращение в список\n",
    "    sentences_to_list = sentences.split('\\n')\n",
    "\n",
    "    # Отзеркаливанике элементов в списке\n",
    "    reversed_sentences=[]\n",
    "    for stroke in sentences_to_list:\n",
    "        splitted_stroke=stroke.split()\n",
    "        splitted_stroke.reverse()\n",
    "        united_stroke=' '.join(splitted_stroke)\n",
    "        reversed_sentences.append(united_stroke)\n",
    "\n",
    "    # Разделение на блоки \n",
    "    list_to_block =[]\n",
    "    for i in range(0,len(reversed_sentences),block_size):\n",
    "        list_to_block.append(' '.join(reversed_sentences[i:i+block_size]))\n",
    "\n",
    "    # Сборка обратно в строку    \n",
    "    reversed_joined_block='\\n'.join(list_to_block)\n",
    "\n",
    "    return reversed_joined_block\n",
    "        \n",
    "\n",
    "strings = 'Привет как дела\\nНа улице идет дождь\\nЯ люблю программирование\\n'\n",
    "\n",
    "# Парамметр block_size задает на какое количество блоков делить предложения\n",
    "print(reverse(block_size=2,sentences=strings))"
   ]
  },
  {
   "cell_type": "markdown",
   "metadata": {},
   "source": [
    "# Задание 2 (2 балла)"
   ]
  },
  {
   "cell_type": "code",
   "execution_count": 163,
   "metadata": {},
   "outputs": [
    {
     "name": "stdout",
     "output_type": "stream",
     "text": [
      "a3b2c\n"
     ]
    }
   ],
   "source": [
    "def compression(stroke=str):\n",
    "    array = list(stroke)\n",
    "    # Создаем словарь ключ=буква, значение=количество_повторений\n",
    "    dict={}\n",
    "    for i in range(0,len(array)):\n",
    "        value=1\n",
    "        for k in range(i+1,len(array)):\n",
    "            if array[i] == array[k]:\n",
    "                value+=1\n",
    "        if array[i] not in dict:\n",
    "            dict[array[i]]=value\n",
    "    \n",
    "    # Избавляемся от единицы, если она есть, и выводим значение\n",
    "    sentence=[]\n",
    "    for z in dict:\n",
    "        if dict[z]==1:\n",
    "            sentence.append(z)\n",
    "        else:\n",
    "            sentence.append(z+str(dict[z]))\n",
    "    return ''.join(sentence)\n",
    "\n",
    "print(compression(stroke='aaabbc'))"
   ]
  },
  {
   "cell_type": "markdown",
   "metadata": {},
   "source": [
    "# Задание 3 (4 балла)"
   ]
  },
  {
   "cell_type": "code",
   "execution_count": 169,
   "metadata": {},
   "outputs": [
    {
     "name": "stdout",
     "output_type": "stream",
     "text": [
      "True\n",
      "True\n",
      "True\n",
      "False\n",
      "False\n",
      "False\n"
     ]
    }
   ],
   "source": [
    "def chaos_brackets(string: str) -> bool:\n",
    "    # Словарь для хранения соответствий открывающих и закрывающих скобок\n",
    "    brackets = {')': '(', ']': '[', '}': '{'}\n",
    "    stack = []\n",
    "\n",
    "    for char in string:\n",
    "        # Если текущий символ — это открывающая скобка, добавляем её в стек\n",
    "        if char in brackets.values():\n",
    "            stack.append(char)\n",
    "        # Если текущий символ — это закрывающая скобка\n",
    "        elif char in brackets.keys():\n",
    "            # Проверяем, есть ли соответствующая открывающая скобка в стеке\n",
    "            if not stack or stack[-1] != brackets[char]:\n",
    "                return False\n",
    "            stack.pop()  # Убираем из стека если нашли пару\n",
    "\n",
    "    # Если после проверки стек пустой, то все скобки сбалансированы\n",
    "    return not stack\n",
    "\n",
    "# Примеры с правильно расставленными скобками\n",
    "print(chaos_brackets(\"({[]})\"))  # True\n",
    "print(chaos_brackets(\"([]){}()\"))  # True\n",
    "print(chaos_brackets(\"{[()]}\"))  # True\n",
    "\n",
    "# Примеры с неправильно расставленными скобками\n",
    "print(chaos_brackets(\"({[})\"))  # False\n",
    "print(chaos_brackets(\"{[(])}\"))  # False\n",
    "print(chaos_brackets(\")({}\")) # False"
   ]
  },
  {
   "cell_type": "markdown",
   "metadata": {},
   "source": [
    "# Задание 4 (4 балла)"
   ]
  },
  {
   "cell_type": "code",
   "execution_count": 165,
   "metadata": {},
   "outputs": [
    {
     "name": "stdout",
     "output_type": "stream",
     "text": [
      "$7l?Eip0k|c]h[s/+J-O\n"
     ]
    }
   ],
   "source": [
    "import random\n",
    "\n",
    "def password_generator(lenght=int):\n",
    "    special_characters = \"!@#$%^&*()_+-={}[]:;'\\\"<>,.?/\\\\|~`\"\n",
    "    english_letters = \"abcdefghijklmnopqrstuvwxyzABCDEFGHIJKLMNOPQRSTUVWXYZ\"\n",
    "    numbers = \"0123456789\"\n",
    "\n",
    "    password=\"\"\n",
    "\n",
    "    if lenght < 3:\n",
    "        raise ValueError('Пароль должен содержать 3 или больше символов')\n",
    "\n",
    "    # Минимальные требования: как минимум 1 специальный символ, 1 число и 1 буква\n",
    "    password = random.choice(special_characters)\n",
    "    password += random.choice(numbers)           \n",
    "    password += random.choice(english_letters)   \n",
    "\n",
    "    # Остальные символы случайным образом\n",
    "    all_characters = special_characters + numbers + english_letters\n",
    "    while len(password) < lenght:\n",
    "        password += random.choice(all_characters)\n",
    "\n",
    "    return password\n",
    "\n",
    "\n",
    "\n",
    "print(password_generator(20))\n"
   ]
  },
  {
   "cell_type": "markdown",
   "metadata": {},
   "source": [
    "# Задание 5 (6 баллов)"
   ]
  },
  {
   "cell_type": "code",
   "execution_count": 170,
   "metadata": {},
   "outputs": [
    {
     "name": "stdout",
     "output_type": "stream",
     "text": [
      "Клиент Андрей добавлен в очередь с приоритетом VIP\n",
      "Клиент Мария добавлен в очередь с приоритетом обычный\n",
      "Клиент Иван добавлен в очередь с приоритетом VIP\n",
      "Клиент Елена добавлен в очередь с приоритетом обычный\n",
      "Обслуживание клиента Андрей с приоритетом VIP начато...\n",
      "Обслуживание клиента Андрей завершено.\n",
      "Обслуживание клиента Иван с приоритетом VIP начато...\n",
      "Обслуживание клиента Иван завершено.\n",
      "Обслуживание клиента Мария с приоритетом обычный начато...\n",
      "Обслуживание клиента Мария завершено.\n",
      "Обслуживание клиента Елена с приоритетом обычный начато...\n",
      "Обслуживание клиента Елена завершено.\n",
      "Отчет для администрации:\n",
      "Клиент: Андрей, Приоритет: VIP, Время обслуживания: 2.00 сек\n",
      "Клиент: Иван, Приоритет: VIP, Время обслуживания: 2.00 сек\n",
      "Клиент: Мария, Приоритет: обычный, Время обслуживания: 2.01 сек\n",
      "Клиент: Елена, Приоритет: обычный, Время обслуживания: 2.00 сек\n",
      "Общее время обслуживания всех клиентов: 8.02 сек\n",
      "Количество обслуженных клиентов: 4\n"
     ]
    }
   ],
   "source": [
    "import time\n",
    "from collections import deque\n",
    "\n",
    "class Client:\n",
    "    def __init__(self, name, priority):\n",
    "        self.name = name\n",
    "        self.priority = priority  # 'VIP' или 'обычный'\n",
    "        self.start_time = None  # Время начала обслуживания\n",
    "        self.end_time = None  # Время завершения обслуживания\n",
    "    \n",
    "    def served_time(self):\n",
    "        \"\"\"Рассчитывает длительность обслуживания клиента.\"\"\"\n",
    "        if self.start_time and self.end_time:\n",
    "            return self.end_time - self.start_time\n",
    "        return 0\n",
    "\n",
    "\n",
    "class ElectronicQueue:\n",
    "    def __init__(self):\n",
    "        self.vip_clients = deque()  # Очередь для VIP-клиентов\n",
    "        self.regular_clients = deque()  # Очередь для обычных клиентов\n",
    "        self.served_clients = []  # Список обслуженных клиентов\n",
    "    \n",
    "    def add_client(self, name, priority):\n",
    "        \"\"\"Добавляет клиента в очередь с указанным приоритетом.\"\"\"\n",
    "        client = Client(name, priority)\n",
    "        if priority == 'VIP':\n",
    "            self.vip_clients.append(client)\n",
    "        elif priority == 'обычный':\n",
    "            self.regular_clients.append(client)\n",
    "        else:\n",
    "            raise ValueError(\"Приоритет должен быть 'VIP' или 'обычный'\")\n",
    "        print(f\"Клиент {name} добавлен в очередь с приоритетом {priority}\")\n",
    "    \n",
    "    def next_client(self):\n",
    "        \"\"\"Извлекает следующего клиента из очереди в зависимости от приоритета.\"\"\"\n",
    "        # VIP-клиенты обслуживаются первыми\n",
    "        if self.vip_clients:\n",
    "            return self.vip_clients.popleft()\n",
    "        elif self.regular_clients:\n",
    "            return self.regular_clients.popleft()\n",
    "        else:\n",
    "            return None\n",
    "    \n",
    "    def serve_client(self):\n",
    "        \"\"\"Обслуживает клиента, фиксируя время начала и конца обслуживания.\"\"\"\n",
    "        client = self.next_client()\n",
    "        if not client:\n",
    "            print(\"Очередь пуста, нет клиентов для обслуживания.\")\n",
    "            return\n",
    "        \n",
    "        client.start_time = time.time()  # Фиксируем время начала обслуживания\n",
    "        print(f\"Обслуживание клиента {client.name} с приоритетом {client.priority} начато...\")\n",
    "        time.sleep(2)  # Имитация времени обслуживания (2 секунды)\n",
    "        client.end_time = time.time()  # Фиксируем время завершения обслуживания\n",
    "        print(f\"Обслуживание клиента {client.name} завершено.\")\n",
    "        \n",
    "        self.served_clients.append(client)  # Клиент добавляется в список обслуженных\n",
    "    \n",
    "    def generate_report(self):\n",
    "        \"\"\"Генерирует отчет для администрации о времени обслуживания клиентов.\"\"\"\n",
    "        print(\"Отчет для администрации:\")\n",
    "        if not self.served_clients:\n",
    "            print(\"Клиенты пока не обслуживались.\")\n",
    "            return\n",
    "        \n",
    "        total_time = 0\n",
    "        for client in self.served_clients:\n",
    "            served_time = client.served_time()\n",
    "            total_time += served_time\n",
    "            print(f\"Клиент: {client.name}, Приоритет: {client.priority}, Время обслуживания: {served_time:.2f} сек\")\n",
    "        \n",
    "        print(f\"Общее время обслуживания всех клиентов: {total_time:.2f} сек\")\n",
    "        print(f\"Количество обслуженных клиентов: {len(self.served_clients)}\")\n",
    "\n",
    "\n",
    "# Пример использования\n",
    "bank_queue = ElectronicQueue()\n",
    "\n",
    "# Добавляем клиентов в очередь\n",
    "bank_queue.add_client(\"Андрей\", priority=\"VIP\")\n",
    "bank_queue.add_client(\"Мария\", priority=\"обычный\")\n",
    "bank_queue.add_client(\"Иван\", priority=\"VIP\")\n",
    "bank_queue.add_client(\"Елена\", priority=\"обычный\")\n",
    "\n",
    "# Обслуживаем клиентов\n",
    "bank_queue.serve_client()\n",
    "bank_queue.serve_client()\n",
    "bank_queue.serve_client()\n",
    "bank_queue.serve_client()\n",
    "\n",
    "# Генерируем отчет\n",
    "bank_queue.generate_report()"
   ]
  },
  {
   "cell_type": "markdown",
   "metadata": {},
   "source": [
    "# Задание 6 (2 балла)"
   ]
  },
  {
   "cell_type": "code",
   "execution_count": 171,
   "metadata": {},
   "outputs": [
    {
     "name": "stdout",
     "output_type": "stream",
     "text": [
      "Палиндром\n",
      "Почти палиндром\n",
      "Не палиндром\n"
     ]
    }
   ],
   "source": [
    "def is_almost_palindrome(value: str) -> str:\n",
    "    def is_palindrome(s: str) -> bool:\n",
    "        # Проверяем, является ли строка палиндромом\n",
    "        return s == s[::-1]\n",
    "    \n",
    "    # Если строка уже палиндром\n",
    "    if is_palindrome(value):\n",
    "        return \"Палиндром\"\n",
    "    \n",
    "    # Проверяем, можно ли стать палиндромом, удалив одну букву\n",
    "    for i in range(len(value)):\n",
    "        # Создаем новую строку, исключая символ с индексом i\n",
    "        modified = value[:i] + value[i+1:]\n",
    "        if is_palindrome(modified):\n",
    "            return \"Почти палиндром\"\n",
    "    \n",
    "    # Если ни один вариант не подходит\n",
    "    return \"Не палиндром\"\n",
    "    \n",
    "# Примеры проверки\n",
    "print(is_almost_palindrome(\"radar\"))  # Палиндром\n",
    "print(is_almost_palindrome(\"radcar\"))  # Почти палиндром\n",
    "print(is_almost_palindrome(\"hello\"))  # Не палиндром"
   ]
  },
  {
   "cell_type": "markdown",
   "metadata": {},
   "source": [
    "# Задание 7 (9 баллов)"
   ]
  },
  {
   "cell_type": "code",
   "execution_count": 168,
   "metadata": {},
   "outputs": [
    {
     "name": "stdout",
     "output_type": "stream",
     "text": [
      "Обработка завершена! Измененный текст сохранен в файл: /Users/bessonv/Skillfactory/Анализ данных в Pandas/input.txt\n"
     ]
    }
   ],
   "source": [
    "import random\n",
    "\n",
    "def erase_text(file_path: str, percentage: int):\n",
    "    # Проверка валидности процента\n",
    "    if percentage < 0 or percentage > 100:\n",
    "        raise ValueError(\"Процент должен быть в диапазоне от 0 до 100\")\n",
    "    \n",
    "    # Чтение содержимого файла\n",
    "    try:\n",
    "        with open(file_path, 'r', encoding='utf-8') as file:\n",
    "            content = file.read()\n",
    "    except FileNotFoundError:\n",
    "        print(\"Файл не найден. Проверьте путь к файлу.\")\n",
    "        return\n",
    "\n",
    "    # Разделяем текст на слова\n",
    "    words = content.split()\n",
    "\n",
    "    # Вычисляем количество слов для удаления\n",
    "    total_words = len(words)\n",
    "    words_to_erase = int(total_words * (percentage / 100))\n",
    "\n",
    "    # Индексы слов, которые будут заменены\n",
    "    indices_to_erase = random.sample(range(total_words), words_to_erase)\n",
    "\n",
    "    # Заменяем выбранные слова на \"...\"\n",
    "    for i in indices_to_erase:\n",
    "        words[i] = \"...\"\n",
    "\n",
    "    # Собираем текст обратно\n",
    "    modified_content = \" \".join(words)\n",
    "\n",
    "    # Сохраняем результат в новый файл\n",
    "    output_filepath =file_path\n",
    "    with open(output_filepath, 'w', encoding='utf-8') as file:\n",
    "        file.write(modified_content)\n",
    "\n",
    "    print(\"Обработка завершена! Измененный текст сохранен в файл:\", output_filepath)\n",
    "\n",
    "\n",
    "# Пример использования\n",
    "file_path = input(\"Введите путь к файлу: \")\n",
    "percentage = int(input(\"Введите процент текста для удаления: \"))\n",
    "erase_text(file_path, percentage)"
   ]
  }
 ],
 "metadata": {
  "kernelspec": {
   "display_name": "venv",
   "language": "python",
   "name": "python3"
  },
  "language_info": {
   "codemirror_mode": {
    "name": "ipython",
    "version": 3
   },
   "file_extension": ".py",
   "mimetype": "text/x-python",
   "name": "python",
   "nbconvert_exporter": "python",
   "pygments_lexer": "ipython3",
   "version": "3.13.1"
  }
 },
 "nbformat": 4,
 "nbformat_minor": 2
}
